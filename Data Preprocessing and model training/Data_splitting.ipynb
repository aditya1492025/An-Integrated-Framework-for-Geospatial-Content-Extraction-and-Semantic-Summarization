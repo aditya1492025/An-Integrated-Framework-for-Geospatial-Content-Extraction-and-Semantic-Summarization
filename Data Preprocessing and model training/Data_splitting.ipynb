{
 "cells": [
  {
   "cell_type": "code",
   "execution_count": 1,
   "id": "4cd339f9-e841-4b1d-81b2-285101b28573",
   "metadata": {},
   "outputs": [],
   "source": [
    "import pandas as pd\n",
    "import json\n",
    "import random\n",
    "import spacy\n",
    "from spacy.tokens import DocBin\n",
    "import matplotlib.pyplot as plt\n",
    "from sklearn.model_selection import train_test_split\n",
    "import pandas as pd\n",
    "import random"
   ]
  },
  {
   "cell_type": "code",
   "execution_count": 2,
   "id": "8651d69a-b64a-4101-81d3-84c3d88b068a",
   "metadata": {},
   "outputs": [],
   "source": [
    "df = pd.read_csv(\"preprocessed.csv\")"
   ]
  },
  {
   "cell_type": "code",
   "execution_count": 3,
   "id": "5217b62a-11b9-4851-9f6e-471dcaf7ad1b",
   "metadata": {},
   "outputs": [
    {
     "name": "stdout",
     "output_type": "stream",
     "text": [
      "Area Name\n",
      "Rampur             681\n",
      "Gopalpur           535\n",
      "Narayanpur         312\n",
      "Mohanpur           290\n",
      "Raghunathpur       268\n",
      "                  ... \n",
      "Bhimchak             1\n",
      "Bhimchabarkhori      1\n",
      "Bhawanichauki        1\n",
      "Bharathakol          1\n",
      "Uttar Goalpara       1\n",
      "Name: count, Length: 447161, dtype: int64\n",
      "STATE/UT NAME\n",
      "Uttar Pradesh           65530\n",
      "Madhya Pradesh          56709\n",
      "Odisha                  52245\n",
      "Rajasthan               48067\n",
      "Bihar                   45693\n",
      "                        ...  \n",
      "LAKSHADWEEP                10\n",
      "DAMAN & DIU                 6\n",
      "CHANDIGARH                  3\n",
      "DADRA & NAGAR HAVELI        2\n",
      "Chandigarh                  1\n",
      "Name: count, Length: 72, dtype: int64\n",
      "DISTRICT NAME\n",
      "Paschim Medinipur    5748\n",
      "Azamgarh             4260\n",
      "Mayurbhanj           4004\n",
      "Kangra               3939\n",
      "Bankura              3832\n",
      "                     ... \n",
      "TELANGANA               1\n",
      "konaseema               1\n",
      "WEST BENGAL             1\n",
      "UTTARAKHAND             1\n",
      "MAHARASHTRA             1\n",
      "Name: count, Length: 916, dtype: int64\n",
      "SUB-DISTRICT NAME\n",
      "Fatehpur        1567\n",
      "Harraiya        1563\n",
      "Basti           1184\n",
      "Phuloni         1159\n",
      "Sagri           1047\n",
      "                ... \n",
      "Chhendipada        1\n",
      "Industrial         1\n",
      "Jarapada           1\n",
      "Bikrampur          1\n",
      "Jakholi            1\n",
      "Name: count, Length: 8189, dtype: int64\n"
     ]
    }
   ],
   "source": [
    "print(df['Area Name'].value_counts())\n",
    "print(df['STATE/UT NAME'].value_counts())\n",
    "print(df['DISTRICT NAME'].value_counts())\n",
    "print(df['SUB-DISTRICT NAME'].value_counts())"
   ]
  },
  {
   "cell_type": "code",
   "execution_count": 4,
   "id": "37297b76-dcc8-43b6-8331-295e0c351732",
   "metadata": {},
   "outputs": [],
   "source": [
    "train_df, temp_df =train_test_split(df, test_size=0.2, random_state=42)\n",
    "validation_df, test_df = train_test_split(temp_df, test_size=0.5, random_state=42)"
   ]
  },
  {
   "cell_type": "code",
   "execution_count": 5,
   "id": "c4478275-65fe-4081-8254-62f1d6046052",
   "metadata": {},
   "outputs": [
    {
     "name": "stdout",
     "output_type": "stream",
     "text": [
      "Data Splittting Complete.\n",
      "Train set: 507296 records\n",
      "Validation set: 63412 records\n",
      "Test set: 63413 records\n"
     ]
    }
   ],
   "source": [
    "train_df.to_csv(\"train.csv\", index=False)\n",
    "validation_df.to_csv(\"validation.csv\", index=False)\n",
    "test_df.to_csv(\"test.csv\", index=False)\n",
    "print(\"Data Splittting Complete.\")\n",
    "print(f\"Train set: {len(train_df)} records\")\n",
    "print(f\"Validation set: {len(validation_df)} records\")\n",
    "print(f\"Test set: {len(test_df)} records\")"
   ]
  },
  {
   "cell_type": "code",
   "execution_count": null,
   "id": "26c0ceaa-c5e0-45ee-92f5-ab2780443744",
   "metadata": {},
   "outputs": [],
   "source": []
  },
  {
   "cell_type": "code",
   "execution_count": null,
   "id": "b7dce438-e7b0-4021-891e-15add8663ffe",
   "metadata": {},
   "outputs": [],
   "source": []
  },
  {
   "cell_type": "code",
   "execution_count": null,
   "id": "b478f409-4c24-466a-b73b-334ea5fa37d0",
   "metadata": {},
   "outputs": [],
   "source": []
  }
 ],
 "metadata": {
  "kernelspec": {
   "display_name": "Python 3 (ipykernel)",
   "language": "python",
   "name": "python3"
  },
  "language_info": {
   "codemirror_mode": {
    "name": "ipython",
    "version": 3
   },
   "file_extension": ".py",
   "mimetype": "text/x-python",
   "name": "python",
   "nbconvert_exporter": "python",
   "pygments_lexer": "ipython3",
   "version": "3.12.9"
  }
 },
 "nbformat": 4,
 "nbformat_minor": 5
}
