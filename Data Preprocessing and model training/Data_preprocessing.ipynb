{
 "cells": [
  {
   "cell_type": "code",
   "execution_count": 2,
   "id": "c84ad963-732c-4027-8b52-ce7e6bd0a9d4",
   "metadata": {},
   "outputs": [],
   "source": [
    "import pandas as pd\n",
    "import json\n",
    "import random\n",
    "import spacy\n",
    "from spacy.tokens import DocBin\n",
    "import matplotlib.pyplot as plt"
   ]
  },
  {
   "cell_type": "code",
   "execution_count": 3,
   "id": "20cf1b1a-78fe-4032-b571-98e069d46ba6",
   "metadata": {},
   "outputs": [],
   "source": [
    "# 1. Loading the combined data in csv\n",
    "df = pd.read_csv(\"combined_data.csv\")"
   ]
  },
  {
   "cell_type": "code",
   "execution_count": 4,
   "id": "205169b0-b4bc-4dfa-92f5-0b63ac68db92",
   "metadata": {},
   "outputs": [
    {
     "data": {
      "text/html": [
       "<div>\n",
       "<style scoped>\n",
       "    .dataframe tbody tr th:only-of-type {\n",
       "        vertical-align: middle;\n",
       "    }\n",
       "\n",
       "    .dataframe tbody tr th {\n",
       "        vertical-align: top;\n",
       "    }\n",
       "\n",
       "    .dataframe thead th {\n",
       "        text-align: right;\n",
       "    }\n",
       "</style>\n",
       "<table border=\"1\" class=\"dataframe\">\n",
       "  <thead>\n",
       "    <tr style=\"text-align: right;\">\n",
       "      <th></th>\n",
       "      <th>STATE/UT NAME</th>\n",
       "      <th>DISTRICT NAME</th>\n",
       "      <th>SUB-DISTRICT NAME</th>\n",
       "      <th>Area Name</th>\n",
       "    </tr>\n",
       "  </thead>\n",
       "  <tbody>\n",
       "    <tr>\n",
       "      <th>0</th>\n",
       "      <td>MIZORAM</td>\n",
       "      <td>Mamit</td>\n",
       "      <td>Mamit</td>\n",
       "      <td>Mamit</td>\n",
       "    </tr>\n",
       "    <tr>\n",
       "      <th>1</th>\n",
       "      <td>MIZORAM</td>\n",
       "      <td>Mamit</td>\n",
       "      <td>Zawlnuam</td>\n",
       "      <td>Zawlnuam</td>\n",
       "    </tr>\n",
       "    <tr>\n",
       "      <th>2</th>\n",
       "      <td>MIZORAM</td>\n",
       "      <td>Mamit</td>\n",
       "      <td>Zawlnuam</td>\n",
       "      <td>Zawlnuam (NT)</td>\n",
       "    </tr>\n",
       "    <tr>\n",
       "      <th>3</th>\n",
       "      <td>MIZORAM</td>\n",
       "      <td>Mamit</td>\n",
       "      <td>Zawlnuam</td>\n",
       "      <td>Mamit (NT)</td>\n",
       "    </tr>\n",
       "    <tr>\n",
       "      <th>4</th>\n",
       "      <td>MIZORAM</td>\n",
       "      <td>Mamit</td>\n",
       "      <td>West Phaileng</td>\n",
       "      <td>West Phaileng</td>\n",
       "    </tr>\n",
       "  </tbody>\n",
       "</table>\n",
       "</div>"
      ],
      "text/plain": [
       "  STATE/UT NAME DISTRICT NAME SUB-DISTRICT NAME      Area Name\n",
       "0       MIZORAM         Mamit             Mamit          Mamit\n",
       "1       MIZORAM         Mamit          Zawlnuam       Zawlnuam\n",
       "2       MIZORAM         Mamit          Zawlnuam  Zawlnuam (NT)\n",
       "3       MIZORAM         Mamit          Zawlnuam     Mamit (NT)\n",
       "4       MIZORAM         Mamit     West Phaileng  West Phaileng"
      ]
     },
     "execution_count": 4,
     "metadata": {},
     "output_type": "execute_result"
    }
   ],
   "source": [
    "df.head()"
   ]
  },
  {
   "cell_type": "code",
   "execution_count": 5,
   "id": "19857d73-ec50-4141-88ef-05242fc7160c",
   "metadata": {},
   "outputs": [
    {
     "data": {
      "text/plain": [
       "(634121, 4)"
      ]
     },
     "execution_count": 5,
     "metadata": {},
     "output_type": "execute_result"
    }
   ],
   "source": [
    "df.shape"
   ]
  },
  {
   "cell_type": "code",
   "execution_count": 6,
   "id": "5ce3a08f-9612-4b1f-b9aa-ef24f23c7dd3",
   "metadata": {},
   "outputs": [
    {
     "data": {
      "text/html": [
       "<div>\n",
       "<style scoped>\n",
       "    .dataframe tbody tr th:only-of-type {\n",
       "        vertical-align: middle;\n",
       "    }\n",
       "\n",
       "    .dataframe tbody tr th {\n",
       "        vertical-align: top;\n",
       "    }\n",
       "\n",
       "    .dataframe thead th {\n",
       "        text-align: right;\n",
       "    }\n",
       "</style>\n",
       "<table border=\"1\" class=\"dataframe\">\n",
       "  <thead>\n",
       "    <tr style=\"text-align: right;\">\n",
       "      <th></th>\n",
       "      <th>STATE/UT NAME</th>\n",
       "      <th>DISTRICT NAME</th>\n",
       "      <th>SUB-DISTRICT NAME</th>\n",
       "      <th>Area Name</th>\n",
       "    </tr>\n",
       "  </thead>\n",
       "  <tbody>\n",
       "    <tr>\n",
       "      <th>count</th>\n",
       "      <td>634121</td>\n",
       "      <td>634121</td>\n",
       "      <td>634121</td>\n",
       "      <td>634121</td>\n",
       "    </tr>\n",
       "    <tr>\n",
       "      <th>unique</th>\n",
       "      <td>72</td>\n",
       "      <td>916</td>\n",
       "      <td>8189</td>\n",
       "      <td>447161</td>\n",
       "    </tr>\n",
       "    <tr>\n",
       "      <th>top</th>\n",
       "      <td>Uttar Pradesh</td>\n",
       "      <td>Paschim Medinipur</td>\n",
       "      <td>Fatehpur</td>\n",
       "      <td>Rampur</td>\n",
       "    </tr>\n",
       "    <tr>\n",
       "      <th>freq</th>\n",
       "      <td>65530</td>\n",
       "      <td>5748</td>\n",
       "      <td>1567</td>\n",
       "      <td>681</td>\n",
       "    </tr>\n",
       "  </tbody>\n",
       "</table>\n",
       "</div>"
      ],
      "text/plain": [
       "        STATE/UT NAME      DISTRICT NAME SUB-DISTRICT NAME Area Name\n",
       "count          634121             634121            634121    634121\n",
       "unique             72                916              8189    447161\n",
       "top     Uttar Pradesh  Paschim Medinipur          Fatehpur    Rampur\n",
       "freq            65530               5748              1567       681"
      ]
     },
     "execution_count": 6,
     "metadata": {},
     "output_type": "execute_result"
    }
   ],
   "source": [
    "df.describe()"
   ]
  },
  {
   "cell_type": "code",
   "execution_count": 7,
   "id": "b71cfd4b-fe65-472e-ba3a-6f9cfac7b355",
   "metadata": {},
   "outputs": [
    {
     "name": "stdout",
     "output_type": "stream",
     "text": [
      "<class 'pandas.core.frame.DataFrame'>\n",
      "RangeIndex: 634121 entries, 0 to 634120\n",
      "Data columns (total 4 columns):\n",
      " #   Column             Non-Null Count   Dtype \n",
      "---  ------             --------------   ----- \n",
      " 0   STATE/UT NAME      634121 non-null  object\n",
      " 1   DISTRICT NAME      634121 non-null  object\n",
      " 2   SUB-DISTRICT NAME  634121 non-null  object\n",
      " 3   Area Name          634121 non-null  object\n",
      "dtypes: object(4)\n",
      "memory usage: 19.4+ MB\n"
     ]
    }
   ],
   "source": [
    "df.info()"
   ]
  },
  {
   "cell_type": "code",
   "execution_count": 8,
   "id": "f6e98c4e-c2be-4b99-a11e-bbc1d15d903a",
   "metadata": {},
   "outputs": [
    {
     "name": "stdout",
     "output_type": "stream",
     "text": [
      "STATE/UT NAME        0\n",
      "DISTRICT NAME        0\n",
      "SUB-DISTRICT NAME    0\n",
      "Area Name            0\n",
      "dtype: int64\n"
     ]
    }
   ],
   "source": [
    "#Check for missing values\n",
    "print(df.isnull().sum())\n",
    "\n",
    "#Drop rows with missing valiues and place it in a new variable \"df_cleaned\"\n",
    "df_cleaned = df.dropna()"
   ]
  },
  {
   "cell_type": "code",
   "execution_count": 9,
   "id": "dde1d7ca-fc2b-4c66-a3d3-6b9b7b2b5279",
   "metadata": {},
   "outputs": [
    {
     "name": "stdout",
     "output_type": "stream",
     "text": [
      "11477\n",
      "STATE/UT NAME        object\n",
      "DISTRICT NAME        object\n",
      "SUB-DISTRICT NAME    object\n",
      "Area Name            object\n",
      "dtype: object\n"
     ]
    },
    {
     "data": {
      "text/html": [
       "<div>\n",
       "<style scoped>\n",
       "    .dataframe tbody tr th:only-of-type {\n",
       "        vertical-align: middle;\n",
       "    }\n",
       "\n",
       "    .dataframe tbody tr th {\n",
       "        vertical-align: top;\n",
       "    }\n",
       "\n",
       "    .dataframe thead th {\n",
       "        text-align: right;\n",
       "    }\n",
       "</style>\n",
       "<table border=\"1\" class=\"dataframe\">\n",
       "  <thead>\n",
       "    <tr style=\"text-align: right;\">\n",
       "      <th></th>\n",
       "      <th>STATE/UT NAME</th>\n",
       "      <th>DISTRICT NAME</th>\n",
       "      <th>SUB-DISTRICT NAME</th>\n",
       "      <th>Area Name</th>\n",
       "    </tr>\n",
       "  </thead>\n",
       "  <tbody>\n",
       "    <tr>\n",
       "      <th>count</th>\n",
       "      <td>634121</td>\n",
       "      <td>634121</td>\n",
       "      <td>634121</td>\n",
       "      <td>634121</td>\n",
       "    </tr>\n",
       "    <tr>\n",
       "      <th>unique</th>\n",
       "      <td>72</td>\n",
       "      <td>916</td>\n",
       "      <td>8189</td>\n",
       "      <td>447161</td>\n",
       "    </tr>\n",
       "    <tr>\n",
       "      <th>top</th>\n",
       "      <td>Uttar Pradesh</td>\n",
       "      <td>Paschim Medinipur</td>\n",
       "      <td>Fatehpur</td>\n",
       "      <td>Rampur</td>\n",
       "    </tr>\n",
       "    <tr>\n",
       "      <th>freq</th>\n",
       "      <td>65530</td>\n",
       "      <td>5748</td>\n",
       "      <td>1567</td>\n",
       "      <td>681</td>\n",
       "    </tr>\n",
       "  </tbody>\n",
       "</table>\n",
       "</div>"
      ],
      "text/plain": [
       "        STATE/UT NAME      DISTRICT NAME SUB-DISTRICT NAME Area Name\n",
       "count          634121             634121            634121    634121\n",
       "unique             72                916              8189    447161\n",
       "top     Uttar Pradesh  Paschim Medinipur          Fatehpur    Rampur\n",
       "freq            65530               5748              1567       681"
      ]
     },
     "execution_count": 9,
     "metadata": {},
     "output_type": "execute_result"
    }
   ],
   "source": [
    "#Identify duplicates\n",
    "print(df.duplicated().sum())\n",
    "\n",
    "#Remove duplicates\n",
    "df_no_duplicates = df.drop_duplicates()\n",
    "\n",
    "print(df.dtypes)\n",
    "df.shape\n",
    "df.describe()"
   ]
  },
  {
   "cell_type": "code",
   "execution_count": 10,
   "id": "88637e49-9b07-465d-8e87-2ea4c3278126",
   "metadata": {},
   "outputs": [
    {
     "data": {
      "text/plain": [
       "(634121, 4)"
      ]
     },
     "execution_count": 10,
     "metadata": {},
     "output_type": "execute_result"
    }
   ],
   "source": [
    "df.shape"
   ]
  },
  {
   "cell_type": "markdown",
   "id": "a2cd90c1-6063-4073-bcb5-c00466cfd69b",
   "metadata": {},
   "source": [
    "**Analysis of Data Distribution**"
   ]
  },
  {
   "cell_type": "code",
   "execution_count": 11,
   "id": "53ea1733-616c-4ab4-96ba-3668ae8211f0",
   "metadata": {},
   "outputs": [
    {
     "name": "stdout",
     "output_type": "stream",
     "text": [
      "**Town Frequency Counts:**\n",
      "Area Name\n",
      "Rampur             681\n",
      "Gopalpur           535\n",
      "Narayanpur         312\n",
      "Mohanpur           290\n",
      "Raghunathpur       268\n",
      "                  ... \n",
      "Bhimchak             1\n",
      "Bhimchabarkhori      1\n",
      "Bhawanichauki        1\n",
      "Bharathakol          1\n",
      "Uttar Goalpara       1\n",
      "Name: count, Length: 447161, dtype: int64\n",
      "\n",
      "**Subdistrict Frequency Counts:**\n",
      "SUB-DISTRICT NAME\n",
      "Fatehpur        1567\n",
      "Harraiya        1563\n",
      "Basti           1184\n",
      "Phuloni         1159\n",
      "Sagri           1047\n",
      "                ... \n",
      "Chhendipada        1\n",
      "Industrial         1\n",
      "Jarapada           1\n",
      "Bikrampur          1\n",
      "Jakholi            1\n",
      "Name: count, Length: 8189, dtype: int64\n",
      "\n",
      "**District Frequency Counts:**\n",
      "DISTRICT NAME\n",
      "Paschim Medinipur    5748\n",
      "Azamgarh             4260\n",
      "Mayurbhanj           4004\n",
      "Kangra               3939\n",
      "Bankura              3832\n",
      "                     ... \n",
      "TELANGANA               1\n",
      "konaseema               1\n",
      "WEST BENGAL             1\n",
      "UTTARAKHAND             1\n",
      "MAHARASHTRA             1\n",
      "Name: count, Length: 916, dtype: int64\n",
      "\n",
      "**State Frequency Counts:**\n",
      "STATE/UT NAME\n",
      "Uttar Pradesh           65530\n",
      "Madhya Pradesh          56709\n",
      "Odisha                  52245\n",
      "Rajasthan               48067\n",
      "Bihar                   45693\n",
      "                        ...  \n",
      "LAKSHADWEEP                10\n",
      "DAMAN & DIU                 6\n",
      "CHANDIGARH                  3\n",
      "DADRA & NAGAR HAVELI        2\n",
      "Chandigarh                  1\n",
      "Name: count, Length: 72, dtype: int64\n"
     ]
    }
   ],
   "source": [
    "# Frequency counts for each geographical level\n",
    "print(\"**Town Frequency Counts:**\")\n",
    "print(df['Area Name'].value_counts())\n",
    "\n",
    "print(\"\\n**Subdistrict Frequency Counts:**\")\n",
    "print(df['SUB-DISTRICT NAME'].value_counts())\n",
    "\n",
    "print(\"\\n**District Frequency Counts:**\")\n",
    "print(df['DISTRICT NAME'].value_counts())\n",
    "\n",
    "print(\"\\n**State Frequency Counts:**\")\n",
    "print(df['STATE/UT NAME'].value_counts())"
   ]
  },
  {
   "cell_type": "code",
   "execution_count": 12,
   "id": "1e7599d1-1960-4f56-a6d0-a92627ef8b20",
   "metadata": {},
   "outputs": [
    {
     "data": {
      "image/png": "[encoded data removed]",
      "text/plain": [
       "<Figure size 1500x800 with 4 Axes>"
      ]
     },
     "metadata": {},
     "output_type": "display_data"
    }
   ],
   "source": [
    "import matplotlib.pyplot as plt\n",
    "# Plotting histograms for each category\n",
    "plt.figure(figsize=(15, 8))\n",
    "\n",
    "plt.subplot(2, 2, 1)\n",
    "df['Area Name'].value_counts().hist()\n",
    "plt.title('Distribution of Towns')\n",
    "plt.xlabel('Number of Occurrences')\n",
    "plt.ylabel('Frequency')\n",
    "\n",
    "plt.subplot(2, 2, 2)\n",
    "df['SUB-DISTRICT NAME'].value_counts().hist()\n",
    "plt.title('Distribution of Subdistricts')\n",
    "plt.xlabel('Number of Occurrences')\n",
    "plt.ylabel('Frequency')\n",
    "\n",
    "plt.subplot(2, 2, 3)\n",
    "df['DISTRICT NAME'].value_counts().hist()\n",
    "plt.title('Distribution of Districts')\n",
    "plt.xlabel('Number of Occurrences')\n",
    "plt.ylabel('Frequency')\n",
    "\n",
    "plt.subplot(2, 2, 4)\n",
    "df['STATE/UT NAME'].value_counts().hist()\n",
    "plt.title('Distribution of States')\n",
    "plt.xlabel('Number of Occurrences')\n",
    "plt.ylabel('Frequency')\n",
    "\n",
    "plt.tight_layout()\n",
    "plt.show()"
   ]
  },
  {
   "cell_type": "code",
   "execution_count": 13,
   "id": "fbf675b4-0231-4d11-9a3b-26c04bdcdb9c",
   "metadata": {},
   "outputs": [
    {
     "data": {
      "image/png": "[encoded data removed]",
      "text/plain": [
       "<Figure size 1500x800 with 4 Axes>"
      ]
     },
     "metadata": {},
     "output_type": "display_data"
    }
   ],
   "source": [
    "import seaborn as sns\n",
    "# Box plots\n",
    "plt.figure(figsize=(15, 8))\n",
    "\n",
    "plt.subplot(2, 2, 1)\n",
    "sns.boxplot(x=df['Area Name'].value_counts())\n",
    "plt.title('Boxplot of Town Frequencies')\n",
    "\n",
    "plt.subplot(2, 2, 2)\n",
    "sns.boxplot(x=df['SUB-DISTRICT NAME'].value_counts())\n",
    "plt.title('Boxplot of Subdistrict Frequencies')\n",
    "\n",
    "\n",
    "plt.subplot(2, 2, 3)\n",
    "sns.boxplot(x=df['DISTRICT NAME'].value_counts())\n",
    "plt.title('Boxplot of District Frequencies')\n",
    "\n",
    "plt.subplot(2, 2, 4)\n",
    "sns.boxplot(x=df['STATE/UT NAME'].value_counts())\n",
    "plt.title('Boxplot of State Frequencies')\n",
    "plt.tight_layout()\n",
    "plt.show()"
   ]
  },
  {
   "cell_type": "code",
   "execution_count": 14,
   "id": "2b501363-23cb-4726-9762-c8a32c7bf6d3",
   "metadata": {},
   "outputs": [],
   "source": [
    "df.to_csv(\"preprocessed.csv\",index = False)"
   ]
  },
  {
   "cell_type": "code",
   "execution_count": null,
   "id": "f0145c54-5a51-47f5-aff1-762b029428b8",
   "metadata": {},
   "outputs": [],
   "source": []
  },
  {
   "cell_type": "code",
   "execution_count": null,
   "id": "7b8089ac-70ad-4b3c-9b9d-a3032d25b8b3",
   "metadata": {},
   "outputs": [],
   "source": []
  },
  {
   "cell_type": "code",
   "execution_count": null,
   "id": "6e91da44-c09e-4416-9087-0648aa783afd",
   "metadata": {},
   "outputs": [],
   "source": []
  }
 ],
 "metadata": {
  "kernelspec": {
   "display_name": "Python 3 (ipykernel)",
   "language": "python",
   "name": "python3"
  },
  "language_info": {
   "codemirror_mode": {
    "name": "ipython",
    "version": 3
   },
   "file_extension": ".py",
   "mimetype": "text/x-python",
   "name": "python",
   "nbconvert_exporter": "python",
   "pygments_lexer": "ipython3",
   "version": "3.12.9"
  }
 },
 "nbformat": 4,
 "nbformat_minor": 5
}
